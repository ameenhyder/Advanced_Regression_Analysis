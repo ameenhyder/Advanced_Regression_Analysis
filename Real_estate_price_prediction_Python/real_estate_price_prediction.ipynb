{
 "cells": [
  {
   "cell_type": "code",
   "execution_count": 1,
   "id": "eb8e432b",
   "metadata": {
    "pycharm": {
     "name": "#%%\n"
    }
   },
   "outputs": [],
   "source": [
    "# Import required libraries. No other libraries are required for this task.\n",
    "\n",
    "import pandas as pd\n",
    "import numpy as np\n",
    "from sklearn import linear_model"
   ]
  },
  {
   "cell_type": "markdown",
   "id": "c192d7bc",
   "metadata": {
    "pycharm": {
     "name": "#%% md\n"
    }
   },
   "source": [
    "1. Create a function to read the csv file provided into a DataFrame. \n",
    "2. You MUST place the CSV file in the same directory/folder where your notebook is located. The method below should work without change when you give the file name \"Real_estate.csv\". \n",
    "3. First step in processing data is to list the data types of the columns. \n",
    "4. Use **pandas** features *columns* and *dtypes* to create a dictionary with column names as keys and the datatype as values.\n",
    "5. This function then returns the new dataframe (df) and the df_types dictionary (df_types), where a key-value pair represents column name-column's dtype"
   ]
  },
  {
   "cell_type": "code",
   "execution_count": 106,
   "id": "cf194a76",
   "metadata": {
    "pycharm": {
     "name": "#%%\n"
    }
   },
   "outputs": [
    {
     "name": "stdout",
     "output_type": "stream",
     "text": [
      "{'No': dtype('int64'), 'transaction date': dtype('float64'), 'house age': dtype('float64'), 'distance to the nearest MRT station': dtype('float64'), 'number of convenience stores': dtype('int64'), 'latitude': dtype('float64'), 'longitude': dtype('float64'), 'Y house price of unit area': dtype('float64')}\n"
     ]
    }
   ],
   "source": [
    "def process_data(fl):\n",
    "    \n",
    "    # Import the CSV file (fl)\n",
    "    # Your code goes here\n",
    "    df = pd.read_csv(fl)\n",
    "    \n",
    "    \n",
    "    # Create a dictionary with keys the column names and values the type of data\n",
    "    # Your code goes here\n",
    "    df_types = {}\n",
    "    \n",
    "    for i in range(len(df.columns)):\n",
    "        df_types[df.columns[i]] = df.dtypes[i]\n",
    "\n",
    "    return df, df_types"
   ]
  },
  {
   "cell_type": "markdown",
   "id": "45075037",
   "metadata": {
    "pycharm": {
     "name": "#%% md\n"
    }
   },
   "source": [
    "Now you have the full dataframe for building your model. The following functions splits the data. \n",
    "1. You have to split the data into 2 dataframes: called *df_train* and *df_test*. \n",
    "2. Use **pandas** DataFrame.sample to pick around 75% randomly as the training dataframe. \n",
    "3. Put the rest in test dataframe. Use DataFrame.drop() function on the full dataframe to drop the entries in *df_train*. "
   ]
  },
  {
   "cell_type": "code",
   "execution_count": 30,
   "id": "ba4fba42",
   "metadata": {
    "pycharm": {
     "name": "#%%\n"
    }
   },
   "outputs": [],
   "source": [
    "def train_test_split(df):\n",
    "    df_train = None\n",
    "    df_test = None\n",
    "    \n",
    "    # Assign 75% of input data(df) to df_train and the rest to df_test\n",
    "    # Your code goes here\n",
    "    df_train = df.sample(n= round(len(df) * 0.75))\n",
    "    df_test = df.drop(index=df_train.index)\n",
    "    \n",
    "    return df_train, df_test"
   ]
  },
  {
   "cell_type": "markdown",
   "id": "d2c58876",
   "metadata": {
    "pycharm": {
     "name": "#%% md\n"
    }
   },
   "source": [
    "1. In the dataframe each column is a feature. In the real estate data there are 8 features. The first column (number 0) is just an index number - ignore it. We will only consider 7 features (1-7). \n",
    "2. These are all of different orders of magnitude. For example, the \"transaction date\" is in thousands (very high value) but the \"number of ...stores\" is in one or two digits (low). So we scale them to be more consistent, otherwise transaction date could dominate the predicted outcome of the regression model.\n",
    "3. Find the *maximum* ($M$), *minimum* ($m$) and *mean* ($av$) of each column. Each entry $x_i$ is scaled as:\n",
    "\n",
    "$$ x_i \\rightarrow \\frac{x_i -av}{M-m}$$\n",
    "\n",
    "4. Apply scaling to the dataframe or the numpy array. We will apply to the *numpy* arrays. \n",
    "5. In the function below the input feature matrix is $X\\_in$."
   ]
  },
  {
   "cell_type": "code",
   "execution_count": 44,
   "id": "2c19331c",
   "metadata": {
    "pycharm": {
     "name": "#%%\n"
    }
   },
   "outputs": [],
   "source": [
    "def scale_features(df):\n",
    "    \n",
    "    #the feature vectors as a matrix\n",
    "    X_in = np.array(df.iloc[:,1:7])\n",
    "    \n",
    "    #the output vector\n",
    "    y = np.array(df.iloc[:, 7])\n",
    "    #a matrix of same shape as X_in with all zeros\n",
    "    X_scaled = np.zeros(X_in.shape)\n",
    "    pass\n",
    "    \n",
    "    #apply scaling to each column of X_in separately and store them in X_scaled \n",
    "    m = np.min(X_in, axis=0)\n",
    "    M = np.max(X_in, axis=0)\n",
    "    av = np.mean(X_in, axis=0)\n",
    "    \n",
    "    X_scaled = (X_in - av[None, :]) / (M[None, :] - m[None, :])\n",
    "    \n",
    "    return X_scaled, y\n"
   ]
  },
  {
   "cell_type": "markdown",
   "id": "90c25dc2",
   "metadata": {
    "pycharm": {
     "name": "#%% md\n"
    }
   },
   "source": [
    "We are now ready to build the linear regression model. \n",
    "1. We use the **sklearn** [linear_model.LinearRegression](https://scikit-learn.org/stable/modules/generated/sklearn.linear_model.LinearRegression.html) class to build the model.   "
   ]
  },
  {
   "cell_type": "code",
   "execution_count": 87,
   "id": "9dbd65d6",
   "metadata": {
    "pycharm": {
     "name": "#%%\n"
    }
   },
   "outputs": [],
   "source": [
    "#4 marks\n",
    "def fit_linearModel(X, y):\n",
    "\n",
    "    # Put the output of the appropriate function in the variable linmodel_realest\n",
    "    # return the LinearRegression() estimator that has been fitted, so that\n",
    "    # it can be used for the next question\n",
    "    # Your code goes here\n",
    "    from sklearn.linear_model import LinearRegression\n",
    "    LinRegr_Mod = LinearRegression()\n",
    "    LinRegr_Mod.fit(X,y)\n",
    "    \n",
    "    coef = LinRegr_Mod.coef_\n",
    "    intercept = LinRegr_Mod.intercept_\n",
    "    linmodel_realest = {\"coef\":coef,\"intercept\":intercept,\"model\":LinRegr_Mod}\n",
    "    \n",
    "    return linmodel_realest"
   ]
  },
  {
   "cell_type": "code",
   "execution_count": 88,
   "id": "b626905f",
   "metadata": {},
   "outputs": [
    {
     "name": "stdout",
     "output_type": "stream",
     "text": [
      "{'coef': array([  5.60872687, -12.62114036, -30.77587648,  10.47628763,\n",
      "        17.22948086,  -1.72858974]), 'intercept': 38.643548387097276, 'model': LinearRegression()}\n",
      "Index(['transaction date', 'house age', 'distance to the nearest MRT station',\n",
      "       'number of convenience stores', 'latitude', 'longitude'],\n",
      "      dtype='object')\n"
     ]
    }
   ],
   "source": [
    "df, df_types = process_data(\"Real_estate.csv\")\n",
    "df_train, df_test = train_test_split(df)\n",
    "X_train, y_train = scale_features(df_train)\n",
    "X, y = scale_features(df_test)\n",
    "linmodel_realest = fit_linearModel(X_train,y_train)\n",
    "print(linmodel_realest)\n",
    "print(df.columns[1:7])"
   ]
  },
  {
   "cell_type": "code",
   "execution_count": 89,
   "id": "a2c369f5",
   "metadata": {},
   "outputs": [
    {
     "name": "stdout",
     "output_type": "stream",
     "text": [
      "iteration:  0\n",
      "{'coef': array([  4.38316707, -11.30743003, -31.5732269 ,  11.57277215,\n",
      "        19.24574671,  -5.4179641 ]), 'intercept': 38.1696774193551, 'model': LinearRegression()}\n",
      "iteration:  1\n",
      "{'coef': array([  4.77247868, -11.78166413, -26.05870753,  13.56101033,\n",
      "        15.69579005,   0.46053564]), 'intercept': 36.77612903225821, 'model': LinearRegression()}\n",
      "iteration:  2\n",
      "{'coef': array([  4.75305744, -10.68186154, -21.12759596,  13.10280567,\n",
      "        18.59279627,   3.23963358]), 'intercept': 37.42032258064308, 'model': LinearRegression()}\n",
      "iteration:  3\n",
      "{'coef': array([  3.59580777, -12.48301622, -26.41073584,  13.2912053 ,\n",
      "        17.6517806 ,   0.06583187]), 'intercept': 37.51612903225779, 'model': LinearRegression()}\n"
     ]
    }
   ],
   "source": [
    "  for i in range(4):\n",
    "        df_train, df_test = train_test_split(df)\n",
    "        X_train, y_train = scale_features(df_train)\n",
    "        linmodel_realest = fit_linearModel(X_train,y_train)\n",
    "        print(\"iteration: \",i)\n",
    "        print(linmodel_realest)"
   ]
  },
  {
   "cell_type": "markdown",
   "id": "00cc6599",
   "metadata": {
    "pycharm": {
     "name": "#%% md\n"
    }
   },
   "source": [
    "Answer the following questions. \n",
    "1. Which feature gets *maximum* weight? \n",
    "\n",
    "Answer: distance to the nearest MRT station gets the maximum weight of -28.217 \n",
    "\n",
    "2. Which feature gets *minimum* weight? \n",
    "\n",
    "Answer: longitude gets the minimum weight of -1.346\n",
    "\n",
    "3. What is the intercept?  \n",
    "\n",
    "Answer: 37.916\n",
    "\n",
    "4. Run the model a few times (say 5) with different training sets see if there are variations in the coeficients. You can use the above functions in a loop few times.  \n",
    "\n",
    "Answer: Yes there is slight variation in the coeficients. "
   ]
  },
  {
   "cell_type": "markdown",
   "id": "ac91eefc",
   "metadata": {
    "pycharm": {
     "name": "#%% md\n"
    }
   },
   "source": [
    "Now we use the test data to check the accuracy of the model. We will use root-mean-square error (RMSE) to test accuracy.\n",
    "\n",
    "1. RMSE is covered in the lectures. Basically it is the square-root of the average of the squared errors between the predicted and observed value. \n",
    "2. In the following function you will find the RMSE for the fitted model. \n",
    "3. You should use the returned LinearRegression() object that is return by the function *fit_linearModel* above.\n",
    "4. You should write the RMSE function yourself. Do NOT use **sklearn** *score*() method. However you may use the *predict*() method. \n",
    "5. Test for accuracy on 5 different train-test sets and report the average RMSE vaue. Write a few comments on how to improve accuracy of prediction. "
   ]
  },
  {
   "cell_type": "code",
   "execution_count": 95,
   "id": "4a9e9ad3",
   "metadata": {
    "pycharm": {
     "name": "#%%\n"
    }
   },
   "outputs": [],
   "source": [
    "#X and y correspond to the test data and model is the output of fit_linearModel()\n",
    "def check_rmse(model, X, y):\n",
    "    rmse = 0\n",
    "    \n",
    "    # Update the variable rmse\n",
    "    # Your code goes here, \n",
    "    y_pred = model.predict(X)\n",
    "    rmse = np.sqrt(np.sum((y-y_pred)**2))\n",
    "    \n",
    "    return rmse"
   ]
  },
  {
   "cell_type": "code",
   "execution_count": 104,
   "id": "de03ea6e",
   "metadata": {},
   "outputs": [
    {
     "data": {
      "text/plain": [
       "98.90198267160872"
      ]
     },
     "execution_count": 104,
     "metadata": {},
     "output_type": "execute_result"
    }
   ],
   "source": [
    "from operator import itemgetter\n",
    "rmse_a = np.zeros(5)\n",
    "for i in range(5):\n",
    "        df_train, df_test = train_test_split(df)\n",
    "        X_train, y_train = scale_features(df_train)\n",
    "        X, y = scale_features(df_test)\n",
    "        linmodel_realest = fit_linearModel(X_train,y_train)\n",
    "        coef, intercept, model = itemgetter('coef','intercept','model')(linmodel_realest)\n",
    "        rmse_a[i] = check_rmse(model,X,y)\n",
    "        \n",
    "        \n",
    "rmse_avg = np.mean(rmse_a)\n",
    "rmse_avg\n",
    "\n",
    "\n",
    "##Rmse can further be improved by removing highly correlated independent variable, introducing more data points in the training set and \n",
    "## introducing complex or higher order polynomials to fit regression line to training data"
   ]
  }
 ],
 "metadata": {
  "kernelspec": {
   "display_name": "Python 3 (ipykernel)",
   "language": "python",
   "name": "python3"
  },
  "language_info": {
   "codemirror_mode": {
    "name": "ipython",
    "version": 3
   },
   "file_extension": ".py",
   "mimetype": "text/x-python",
   "name": "python",
   "nbconvert_exporter": "python",
   "pygments_lexer": "ipython3",
   "version": "3.9.12"
  }
 },
 "nbformat": 4,
 "nbformat_minor": 5
}
